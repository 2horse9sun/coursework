{
 "cells": [
  {
   "cell_type": "markdown",
   "metadata": {},
   "source": [
    "# 1 Corner Detection"
   ]
  },
  {
   "cell_type": "markdown",
   "metadata": {},
   "source": [
    "The second moment matrix:\n",
    "$$\n",
    "\\mathbf{M}=\n",
    "\\begin{bmatrix}\n",
    "\\sum_{(x,y)\\in w}w(x,y)I_x^2(x,y) & \\sum_{(x,y)\\in w}w(x,y)I_x(x,y)I_y(x,y) \\\\\n",
    "\\sum_{(x,y)\\in w}w(x,y)I_x(x,y)I_y(x,y) & \\sum_{(x,y)\\in w}w(x,y)I_y^2(x,y)\n",
    "\\end{bmatrix}\n",
    "$$\n",
    "\n",
    "$$\n",
    "E(u,v)=\n",
    "\\begin{bmatrix}\n",
    "u & v \\\\\n",
    "\\end{bmatrix}\n",
    "\\mathbf{M}\n",
    "\\begin{bmatrix}\n",
    "u\\\\\n",
    "v\n",
    "\\end{bmatrix}\n",
    "$$\n",
    "\n",
    "Compute the second moment matrix:\n",
    "\n",
    "1. Compute image gradients $I_x$, $I_y$\n",
    "2. Compute gradients $I_x^2$, $I_y^2$, $I_xI_y$\n",
    "3. Convolve with window function\n",
    "4. Assemble second moment matrix at each pixel\n",
    "\n",
    "Corner Detection:\n",
    "\n",
    "1. Compute the gradient at each point in the image\n",
    "2. Create the M matrix from the entries in the gradient\n",
    "3. Compute the eigenvalues\n",
    "4. Find points with large response (λmin > threshold)\n",
    "5. Choose those points where λmin is a local maximum as features"
   ]
  },
  {
   "cell_type": "code",
   "execution_count": 60,
   "metadata": {},
   "outputs": [
    {
     "data": {
      "text/plain": [
       "<module 'lib.image_process' from '..\\\\lib\\\\image_process.py'>"
      ]
     },
     "execution_count": 60,
     "metadata": {},
     "output_type": "execute_result"
    }
   ],
   "source": [
    "import cv2\n",
    "import numpy as np\n",
    "from matplotlib import pyplot as plt\n",
    "import importlib\n",
    "import copy\n",
    "import sys \n",
    "sys.path.append(\"..\")\n",
    "\n",
    "# reload module in case that module changes\n",
    "from lib import utils\n",
    "importlib.reload(utils)\n",
    "from lib import image_process\n",
    "importlib.reload(image_process)"
   ]
  },
  {
   "cell_type": "code",
   "execution_count": 65,
   "metadata": {},
   "outputs": [
    {
     "data": {
      "image/png": "[encoded data removed]",
      "text/plain": [
       "<Figure size 576x576 with 1 Axes>"
      ]
     },
     "metadata": {
      "needs_background": "light"
     },
     "output_type": "display_data"
    }
   ],
   "source": [
    "img = cv2.imread('img/example_03.PNG', cv2.IMREAD_GRAYSCALE)\n",
    "# img = image_process.separable_gaussian_filter(image_process.boundary_process(img, 6, 'same', 'reflect'), 3, 1)\n",
    "plt.figure(figsize=(8,8))\n",
    "utils.show_img(img)"
   ]
  },
  {
   "cell_type": "code",
   "execution_count": 66,
   "metadata": {},
   "outputs": [],
   "source": [
    "smm_map = image_process.compute_second_moment_matrix(img, 5, 1)"
   ]
  },
  {
   "cell_type": "code",
   "execution_count": 67,
   "metadata": {},
   "outputs": [],
   "source": [
    "height = img.shape[0]\n",
    "width = img.shape[1]\n",
    "min_eigenvalue_matrix = np.zeros((height, width))\n",
    "for m in range(0, height):\n",
    "    for n in range(0, width):\n",
    "        min_eigenvalue_matrix[m][n] = np.abs(np.linalg.eigvals(smm_map[m][n]).min())"
   ]
  },
  {
   "cell_type": "code",
   "execution_count": 74,
   "metadata": {},
   "outputs": [
    {
     "data": {
      "text/plain": [
       "Text(0.5, 1.0, 'High Threshold')"
      ]
     },
     "execution_count": 74,
     "metadata": {},
     "output_type": "execute_result"
    },
    {
     "data": {
      "image/png": "[encoded data removed]",
      "text/plain": [
       "<Figure size 1512x504 with 3 Axes>"
      ]
     },
     "metadata": {
      "needs_background": "light"
     },
     "output_type": "display_data"
    }
   ],
   "source": [
    "min_eigenvalue_matrix_img = utils.normalize(min_eigenvalue_matrix)\n",
    "plt.figure(figsize=(21,7))\n",
    "plt.subplot(131)\n",
    "utils.show_img(image_process.thresholding_filter(min_eigenvalue_matrix_img, 10))\n",
    "plt.title('Low Threshold')\n",
    "plt.subplot(132)\n",
    "utils.show_img(image_process.thresholding_filter(min_eigenvalue_matrix_img, 15))\n",
    "plt.title('Medium Threshold')\n",
    "plt.subplot(133)\n",
    "utils.show_img(image_process.thresholding_filter(min_eigenvalue_matrix_img, 20))\n",
    "plt.title('High Threshold')"
   ]
  }
 ],
 "metadata": {
  "kernelspec": {
   "display_name": "Python 3",
   "language": "python",
   "name": "python3"
  },
  "language_info": {
   "codemirror_mode": {
    "name": "ipython",
    "version": 3
   },
   "file_extension": ".py",
   "mimetype": "text/x-python",
   "name": "python",
   "nbconvert_exporter": "python",
   "pygments_lexer": "ipython3",
   "version": "3.8.3"
  }
 },
 "nbformat": 4,
 "nbformat_minor": 4
}

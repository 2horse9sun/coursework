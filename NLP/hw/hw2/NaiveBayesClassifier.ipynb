{
 "cells": [
  {
   "cell_type": "code",
   "execution_count": 9,
   "metadata": {},
   "outputs": [
    {
     "name": "stderr",
     "output_type": "stream",
     "text": [
      "[nltk_data] Downloading package punkt to\n",
      "[nltk_data]     C:\\Users\\jsjhf\\AppData\\Roaming\\nltk_data...\n",
      "[nltk_data]   Package punkt is already up-to-date!\n",
      "[nltk_data] Downloading package words to\n",
      "[nltk_data]     C:\\Users\\jsjhf\\AppData\\Roaming\\nltk_data...\n",
      "[nltk_data]   Package words is already up-to-date!\n",
      "[nltk_data] Downloading package averaged_perceptron_tagger to\n",
      "[nltk_data]     C:\\Users\\jsjhf\\AppData\\Roaming\\nltk_data...\n",
      "[nltk_data]   Package averaged_perceptron_tagger is already up-to-\n",
      "[nltk_data]       date!\n"
     ]
    },
    {
     "data": {
      "text/plain": [
       "<module 'text_preprocessing' from 'C:\\\\Users\\\\jsjhf\\\\Desktop\\\\course\\\\coursework\\\\NLP\\\\hw\\\\hw2\\\\text_preprocessing.py'>"
      ]
     },
     "execution_count": 9,
     "metadata": {},
     "output_type": "execute_result"
    }
   ],
   "source": [
    "import scipy.io\n",
    "import random\n",
    "import matplotlib.pyplot as plt\n",
    "import numpy as np\n",
    "import sklearn\n",
    "import importlib\n",
    "import sys \n",
    "import os\n",
    "sys.path.append(\".\")\n",
    "# reload module in case that module changes\n",
    "import text_preprocessing\n",
    "importlib.reload(text_preprocessing)"
   ]
  },
  {
   "cell_type": "code",
   "execution_count": 10,
   "metadata": {},
   "outputs": [],
   "source": [
    "# load txt files\n",
    "base_path = \"20_newsgroups\"\n",
    "class_paths = os.listdir(base_path)\n",
    "txt_paths = []\n",
    "txt_labels = []\n",
    "for i in range(len(class_paths)):\n",
    "    files = os.listdir(os.path.join(base_path, class_paths[i]))\n",
    "    for file in files:\n",
    "        txt_paths.append(os.path.join(base_path, os.path.join(class_paths[i], file)))\n",
    "        txt_labels.append(i)"
   ]
  },
  {
   "cell_type": "code",
   "execution_count": 11,
   "metadata": {},
   "outputs": [
    {
     "name": "stdout",
     "output_type": "stream",
     "text": [
      "Start preprocessing...\n",
      "current: 2000\n",
      "current: 4000\n",
      "current: 6000\n",
      "current: 8000\n",
      "current: 10000\n",
      "current: 12000\n",
      "current: 14000\n",
      "current: 16000\n",
      "current: 18000\n",
      "Finish preprocessing !\n"
     ]
    }
   ],
   "source": [
    "# text preprocessing\n",
    "data = text_preprocessing.text_preprocessing(txt_paths)"
   ]
  },
  {
   "cell_type": "code",
   "execution_count": 12,
   "metadata": {},
   "outputs": [],
   "source": [
    "# save preprocessed data\n",
    "news_data = {\"data\": data, \"labels\": np.array(txt_labels).reshape((len(txt_labels), 1))}\n",
    "scipy.io.savemat('data/news_data.mat', news_data)"
   ]
  },
  {
   "cell_type": "code",
   "execution_count": 13,
   "metadata": {},
   "outputs": [],
   "source": [
    "# load data\n",
    "load_data = scipy.io.loadmat('data/news_data.mat')\n",
    "news_data = load_data['data']\n",
    "news_labels = load_data['labels']\n",
    "\n",
    "# shuffle\n",
    "zipped_data = list(zip(news_data, news_labels))  \n",
    "random.seed(0)\n",
    "random.shuffle(zipped_data)\n",
    "new_zipped_data = list(map(list, zip(*zipped_data)))  \n",
    "news_data, news_labels = np.array(new_zipped_data[0]), np.array(new_zipped_data[1])  \n",
    "\n",
    "# split data into training, validation and test sets\n",
    "training_data = news_data[:15000, :]\n",
    "training_labels = news_labels[:15000]\n",
    "validation_data = news_data[15000:17500, :]\n",
    "validation_labels = news_labels[15000:17500]\n",
    "test_data = news_data[17500:, :]\n",
    "test_labels = news_labels[17500:]"
   ]
  },
  {
   "cell_type": "code",
   "execution_count": 14,
   "metadata": {},
   "outputs": [],
   "source": [
    "# Naive Bayes Classifier\n",
    "class NBC:\n",
    "    def __init__(self):\n",
    "        # P(y=c)\n",
    "        self.log_Pc = 0\n",
    "        \n",
    "        # P(F=f|Y=c)\n",
    "        self.log_prior = 0\n",
    "        \n",
    "        # training size\n",
    "        self.N = 0\n",
    "        \n",
    "        # dimension\n",
    "        self.d = 0\n",
    "        self.class_size = 0\n",
    "        \n",
    "    def compute_log_Pc(self, data, labels):\n",
    "        log_training_size = np.log(self.N)\n",
    "        for c in range(self.class_size):\n",
    "            c_data = data[labels.ravel()==c, :]\n",
    "            self.log_Pc[c] = np.log(c_data.shape[0]) - log_training_size\n",
    "            \n",
    "    def compute_log_prior(self, data, labels, k):\n",
    "        for c in range(self.class_size):\n",
    "            c_data = data[labels.ravel()==c, :]\n",
    "            all_cnt = c_data.sum()\n",
    "            for f in range(self.d):\n",
    "                log_cnt = np.log(c_data[:, f].sum()+k)\n",
    "                log_all_cnt = np.log(all_cnt+k*d)\n",
    "                self.log_prior[c][f] = log_cnt - log_all_cnt\n",
    "    \n",
    "    def fit(self, data, labels, k):\n",
    "        print(\"Start fitting...\")\n",
    "        self.N = data.shape[0]\n",
    "        self.d = data.shape[1]\n",
    "        self.class_size = len(set(labels.ravel()))\n",
    "        self.log_Pc = np.zeros((self.class_size, ))\n",
    "        self.log_prior = np.zeros((self.class_size, self.d))\n",
    "        self.compute_log_Pc(data, labels)\n",
    "        self.compute_log_prior(training_data, labels, k)\n",
    "        print(\"Finish fitting !\")\n",
    "    \n",
    "    # Input: n×d\n",
    "    # Output: n×1\n",
    "    def predict(self, data):\n",
    "        pred_list = []\n",
    "        for X in data:\n",
    "            max_log_prob = float('-inf')\n",
    "            pred_c = 0\n",
    "            for c in range(self.class_size):\n",
    "                log_prob = self.log_Pc[c]\n",
    "                for f in range(self.d):\n",
    "                    log_prob += self.log_prior[c][f]*np.log(1+X[f])\n",
    "                if log_prob > max_log_prob:\n",
    "                    max_log_prob = log_prob\n",
    "                    pred_c = c\n",
    "            pred_list.append(pred_c)\n",
    "        return pred_list\n",
    "    \n",
    "    def accuracy(self, data, labels):\n",
    "        print(\"Start computing accuracy...\")\n",
    "        pred_list = self.predict(data)\n",
    "        n = len(labels)\n",
    "        n_accuracy = (pred_list == labels.ravel()).sum()\n",
    "        print(\"Finish computing accuracy !\")\n",
    "        return n_accuracy/n"
   ]
  },
  {
   "cell_type": "code",
   "execution_count": 15,
   "metadata": {},
   "outputs": [
    {
     "name": "stdout",
     "output_type": "stream",
     "text": [
      "Start fitting...\n",
      "Finish fitting !\n",
      "Start computing accuracy...\n",
      "Finish computing accuracy !\n"
     ]
    },
    {
     "data": {
      "text/plain": [
       "0.837"
      ]
     },
     "execution_count": 15,
     "metadata": {},
     "output_type": "execute_result"
    }
   ],
   "source": [
    "nbc = NBC()\n",
    "nbc.fit(training_data, training_labels, 1)\n",
    "nbc.accuracy(validation_data[0:1000, :], validation_labels[0:1000, :])"
   ]
  }
 ],
 "metadata": {
  "kernelspec": {
   "display_name": "Python 3",
   "language": "python",
   "name": "python3"
  },
  "language_info": {
   "codemirror_mode": {
    "name": "ipython",
    "version": 3
   },
   "file_extension": ".py",
   "mimetype": "text/x-python",
   "name": "python",
   "nbconvert_exporter": "python",
   "pygments_lexer": "ipython3",
   "version": "3.8.3"
  }
 },
 "nbformat": 4,
 "nbformat_minor": 4
}

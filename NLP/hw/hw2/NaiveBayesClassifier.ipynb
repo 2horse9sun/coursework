{
 "cells": [
  {
   "cell_type": "markdown",
   "metadata": {},
   "source": [
    "# 1 问题引入"
   ]
  },
  {
   "cell_type": "markdown",
   "metadata": {},
   "source": [
    "在讨论文本分类问题之前，先讨论一种普遍的分类问题，如构造一个垃圾邮件分类系统，它能把邮件分类为垃圾邮件和正常的邮件。这就是分类问题(Classification Problem)：给定多个数据点（在这种情况下，每一篇文章都是一个数据点），目标是把这些文章分为两类或更多类(class)。在分类问题中，给定一个训练集和相应的类别标签(label)（通常都是一些离散值），我们需要用这些训练数据（如邮件及其对应的两个标签之一）去学习出某种关系，利用这个关系我们可以去预测新的未知的数据的标签。下面，我们将详细讨论一种简单却有效的分类问题求解模型：朴素贝叶斯分类器(Naive Bayes Classifier)。"
   ]
  },
  {
   "cell_type": "markdown",
   "metadata": {},
   "source": [
    "# 2 计算模型"
   ]
  },
  {
   "cell_type": "markdown",
   "metadata": {},
   "source": [
    "## 2.1 朴素贝叶斯\n",
    "训练一个文本分类模型，我们需要一些已经一些预先分类好的数据。但是为了学习到有效的东西，我们需要从文本中抽取出一些特定的属性，即特征(feature)。特征可以是任何东西，如单词数量、文本模式等等。这些抽取出来的特征往往要取决于解决的问题，选择的特征对模型的性能有很大的影响。\n",
    "\n",
    "现在假设你有一个含有$n$个单词的词表(dictionary)，从每篇文章中，你抽取了一个特征向量(feature vector) $F\\in \\mathbf{R}^n$，$F$中的第$i$个随机变量$F_i$代表第$i$个词表中的单词的特征值，可以是出现频率(frequencey)，IF，IDF等等。使用以上定义，我们可以用数学语言去描述出如何预测某篇文章属于哪个分类：如果我们能知道每个特征$F_i$与标签$Y$之间的联合概率分布，我们就能在已知特征向量的情况下计算出该文章属于某种分类$C_i$的概率值，即:\n",
    "$$\n",
    "P(Y=C_i|F_1=f_1,\\cdots,F_n=f_n)\n",
    "$$\n",
    "我们只需要计算出所有文章属于$C_i$的概率，取最高概率的$C_i$作为文章的分类标签即可。但是，问题在于我们很难估算出每个特征$F_i$与标签$Y$之间的联合概率分布，即使估算出，分布表的条目将会非常多，在实际应用中几乎无法实现。因此，我们需要简化模型，做出如下假设：给定一个类别标签，每个特征$F_i$都独立于其他的特征。这是一个强模型假设(这就是朴素的原因)，但是它大大简化模型复杂度且效果较好。上述假设可以用如下的贝叶斯网来描述：\n",
    "\n",
    "使用简化过的模型，我们可以根据贝叶斯网做出预测，给定观察值$F_1,\\cdots,F_n$，选择$Y$的某个值使得条件概率分布值最大：\n",
    "\\begin{equation}\n",
    "\\begin{aligned}\n",
    "pred(f_1,\\cdots,f_n)\n",
    "=& argmax_C P(Y=C|F_1=f_1,\\cdots,F_N=f_n)\\\\\n",
    "=& argmax_C P(Y=C,F_1=f_1,\\cdots,F_N=f_n)\\\\\n",
    "=& argmax_C P(Y=C) \\prod_{i=1}^n P(F_i=f_i|Y=C)\\\\\n",
    "\\end{aligned}\n",
    "\\end{equation}\n",
    "把问题变得更为一般化：假设现在有$k$个分类标签，我们可以计算出:\n",
    "$$\n",
    "P(Y,F_1=f_1,\\cdots,F_n=f_n)=\n",
    "\\begin{bmatrix}\n",
    "P(Y=C_1) \\prod_{i}P(F_i=f_i|Y=C_1))\\\\\n",
    "P(Y=C_2) \\prod_{i}P(F_i=f_i|Y=C_2))\\\\\n",
    "\\vdots\\\\\n",
    "P(Y=C_k) \\prod_{i}P(F_i=f_i|Y=C_k))\n",
    "\\end{bmatrix}\n",
    "$$\n",
    "根据特征向量$F$预测得到的标签就是：\n",
    "$$\n",
    "pred(F)=argmax_{C_i}P(Y=C_i)\\prod_j P(F_j=f_j|Y=C_i)\n",
    "$$\n",
    "模型建立好之后，我们需要从训练集中得到某个类别标签的概率分布$P(Y=C)$和先验概率$P(F|Y=C)$，这就是下面要讨论的问题：参数估计(parameter estimation)。"
   ]
  },
  {
   "cell_type": "markdown",
   "metadata": {},
   "source": [
    "## 2.2 参数估计\n",
    "有$N$个样本点或观察值$x_1,\\cdots,x_n$，假设这些数据来源于参数为未知量$\\theta$的分布，即出现$x_i$的概率为$P_{\\theta}(x_i)$。\n",
    "\n",
    "如何从样本中学习出最有可能的$\\theta$值？最常用的方法是最大似然估计(MLE)。它要求样本服从独立同分布。定义以下的似然函数：\n",
    "$$\n",
    "\\mathcal{L}(\\theta)=P_{\\theta}(x_1,\\cdots,x_N)\n",
    "$$\n",
    "由于样本服从独立同分布：\n",
    "$$\n",
    "\\mathcal{L}(\\theta)=\\prod_{i=1}^N P_{\\theta}(x_i)\n",
    "$$\n",
    "我们需要找到某个$\\theta$使得似然函数的值最大，采用以下计算方法：\n",
    "$$\n",
    "\\frac{\\partial}{\\partial \\theta}\\mathcal{L}(\\theta)=0\n",
    "$$"
   ]
  },
  {
   "cell_type": "markdown",
   "metadata": {},
   "source": [
    "## 2.3 朴素贝叶斯的最大似然估计\n",
    "现在我们来估计朴素贝叶斯中的未知参量，先定义如下变量：\n",
    "1. $n$-词典里的单词数。\n",
    "2. $N$-训练集数目。$N_C$为训练集中类别为$C$的样本。\n",
    "3. $F_i$-词典中第$i$个单词的特征值，为了简化推导，假设$F_i$只能取0或1。\n",
    "4. $Y$-类别随机变量。\n",
    "5. $f_i^{(j)}$-第$j$个样本点的第$i$个特征。\n",
    "\n",
    "设$\\theta=P(F_i=1|Y=C)$，则：\n",
    "$$\n",
    "\\mathcal{L}(\\theta)=\\prod_{j=1}^{N_C} P(F_i=f_i^{(j)}|Y=C)=\\prod_{j=1}^{N_C} \\theta^{f_i^{(j)}}(1-\\theta)^{1-f_i^{(j)}}\n",
    "$$\n",
    "$$\n",
    "\\log\\mathcal{L}(\\theta)=\\log(\\theta)\\sum_{j=1}^{N_C}f_i^{(j)}+\\log(1-\\theta)\\sum_{j=1}^{N_C}(1-f_i^{(j)})\n",
    "$$\n",
    "$$\n",
    "\\frac{\\partial}{\\partial \\theta}\\log\\mathcal{L}(\\theta)=0\n",
    "$$\n",
    "$$\n",
    "\\theta=\\frac{1}{N_C}\\sum_{j=1}^{N_C}f_i^{(j)}\n",
    "$$"
   ]
  },
  {
   "cell_type": "markdown",
   "metadata": {},
   "source": [
    "## 2.4 平滑\n",
    "最大似然估计虽然很有效，但是如果出现估计出的概率为0的情况，将会极大地影响模型的性能。因此，我们需要对分类器做平滑处理(smooth)，最常用的是拉普拉斯平滑：\n",
    "$$\n",
    "P_{MLE}(x)=\\frac{count(x)}{N}\n",
    "$$\n",
    "$$\n",
    "P_{LAP,k}(x)=\\frac{count(x+k)}{N+k|X|}\n",
    "$$"
   ]
  },
  {
   "cell_type": "markdown",
   "metadata": {},
   "source": [
    "# 3 编程实现"
   ]
  },
  {
   "cell_type": "markdown",
   "metadata": {},
   "source": [
    "# 4 模型评估"
   ]
  },
  {
   "cell_type": "code",
   "execution_count": 9,
   "metadata": {},
   "outputs": [
    {
     "name": "stderr",
     "output_type": "stream",
     "text": [
      "[nltk_data] Downloading package punkt to\n",
      "[nltk_data]     C:\\Users\\jsjhf\\AppData\\Roaming\\nltk_data...\n",
      "[nltk_data]   Package punkt is already up-to-date!\n",
      "[nltk_data] Downloading package words to\n",
      "[nltk_data]     C:\\Users\\jsjhf\\AppData\\Roaming\\nltk_data...\n",
      "[nltk_data]   Package words is already up-to-date!\n",
      "[nltk_data] Downloading package averaged_perceptron_tagger to\n",
      "[nltk_data]     C:\\Users\\jsjhf\\AppData\\Roaming\\nltk_data...\n",
      "[nltk_data]   Package averaged_perceptron_tagger is already up-to-\n",
      "[nltk_data]       date!\n"
     ]
    },
    {
     "data": {
      "text/plain": [
       "<module 'text_preprocessing' from 'C:\\\\Users\\\\jsjhf\\\\Desktop\\\\course\\\\coursework\\\\NLP\\\\hw\\\\hw2\\\\text_preprocessing.py'>"
      ]
     },
     "execution_count": 9,
     "metadata": {},
     "output_type": "execute_result"
    }
   ],
   "source": [
    "import scipy.io\n",
    "import random\n",
    "import matplotlib.pyplot as plt\n",
    "import numpy as np\n",
    "import sklearn\n",
    "import importlib\n",
    "import sys \n",
    "import os\n",
    "sys.path.append(\".\")\n",
    "# reload module in case that module changes\n",
    "import text_preprocessing\n",
    "importlib.reload(text_preprocessing)"
   ]
  },
  {
   "cell_type": "code",
   "execution_count": 10,
   "metadata": {},
   "outputs": [],
   "source": [
    "# load txt files\n",
    "base_path = \"20_newsgroups\"\n",
    "class_paths = os.listdir(base_path)\n",
    "txt_paths = []\n",
    "txt_labels = []\n",
    "for i in range(len(class_paths)):\n",
    "    files = os.listdir(os.path.join(base_path, class_paths[i]))\n",
    "    for file in files:\n",
    "        txt_paths.append(os.path.join(base_path, os.path.join(class_paths[i], file)))\n",
    "        txt_labels.append(i)"
   ]
  },
  {
   "cell_type": "code",
   "execution_count": 11,
   "metadata": {},
   "outputs": [
    {
     "name": "stdout",
     "output_type": "stream",
     "text": [
      "Start preprocessing...\n",
      "current: 2000\n",
      "current: 4000\n",
      "current: 6000\n",
      "current: 8000\n",
      "current: 10000\n",
      "current: 12000\n",
      "current: 14000\n",
      "current: 16000\n",
      "current: 18000\n",
      "Finish preprocessing !\n"
     ]
    }
   ],
   "source": [
    "# text preprocessing\n",
    "data = text_preprocessing.text_preprocessing(txt_paths)"
   ]
  },
  {
   "cell_type": "code",
   "execution_count": 12,
   "metadata": {},
   "outputs": [],
   "source": [
    "# save preprocessed data\n",
    "news_data = {\"data\": data, \"labels\": np.array(txt_labels).reshape((len(txt_labels), 1))}\n",
    "scipy.io.savemat('data/news_data.mat', news_data)"
   ]
  },
  {
   "cell_type": "code",
   "execution_count": 13,
   "metadata": {},
   "outputs": [],
   "source": [
    "# load data\n",
    "load_data = scipy.io.loadmat('data/news_data.mat')\n",
    "news_data = load_data['data']\n",
    "news_labels = load_data['labels']\n",
    "\n",
    "# shuffle\n",
    "zipped_data = list(zip(news_data, news_labels))  \n",
    "random.seed(0)\n",
    "random.shuffle(zipped_data)\n",
    "new_zipped_data = list(map(list, zip(*zipped_data)))  \n",
    "news_data, news_labels = np.array(new_zipped_data[0]), np.array(new_zipped_data[1])  \n",
    "\n",
    "# split data into training, validation and test sets\n",
    "training_data = news_data[:15000, :]\n",
    "training_labels = news_labels[:15000]\n",
    "validation_data = news_data[15000:17500, :]\n",
    "validation_labels = news_labels[15000:17500]\n",
    "test_data = news_data[17500:, :]\n",
    "test_labels = news_labels[17500:]"
   ]
  },
  {
   "cell_type": "code",
   "execution_count": 14,
   "metadata": {},
   "outputs": [],
   "source": [
    "# Naive Bayes Classifier\n",
    "class NBC:\n",
    "    def __init__(self):\n",
    "        # P(y=c)\n",
    "        self.log_Pc = 0\n",
    "        \n",
    "        # P(F=f|Y=c)\n",
    "        self.log_prior = 0\n",
    "        \n",
    "        # training size\n",
    "        self.N = 0\n",
    "        \n",
    "        # dimension\n",
    "        self.d = 0\n",
    "        self.class_size = 0\n",
    "        \n",
    "    def compute_log_Pc(self, data, labels):\n",
    "        log_training_size = np.log(self.N)\n",
    "        for c in range(self.class_size):\n",
    "            c_data = data[labels.ravel()==c, :]\n",
    "            self.log_Pc[c] = np.log(c_data.shape[0]) - log_training_size\n",
    "            \n",
    "    def compute_log_prior(self, data, labels, k):\n",
    "        for c in range(self.class_size):\n",
    "            c_data = data[labels.ravel()==c, :]\n",
    "            all_cnt = c_data.sum()\n",
    "            for f in range(self.d):\n",
    "                log_cnt = np.log(c_data[:, f].sum()+k)\n",
    "                log_all_cnt = np.log(all_cnt+k*d)\n",
    "                self.log_prior[c][f] = log_cnt - log_all_cnt\n",
    "    \n",
    "    def fit(self, data, labels, k):\n",
    "        print(\"Start fitting...\")\n",
    "        self.N = data.shape[0]\n",
    "        self.d = data.shape[1]\n",
    "        self.class_size = len(set(labels.ravel()))\n",
    "        self.log_Pc = np.zeros((self.class_size, ))\n",
    "        self.log_prior = np.zeros((self.class_size, self.d))\n",
    "        self.compute_log_Pc(data, labels)\n",
    "        self.compute_log_prior(training_data, labels, k)\n",
    "        print(\"Finish fitting !\")\n",
    "    \n",
    "    # Input: n×d\n",
    "    # Output: n×1\n",
    "    def predict(self, data):\n",
    "        pred_list = []\n",
    "        for X in data:\n",
    "            max_log_prob = float('-inf')\n",
    "            pred_c = 0\n",
    "            for c in range(self.class_size):\n",
    "                log_prob = self.log_Pc[c]\n",
    "                for f in range(self.d):\n",
    "                    log_prob += self.log_prior[c][f]*np.log(1+X[f])\n",
    "                if log_prob > max_log_prob:\n",
    "                    max_log_prob = log_prob\n",
    "                    pred_c = c\n",
    "            pred_list.append(pred_c)\n",
    "        return pred_list\n",
    "    \n",
    "    def accuracy(self, data, labels):\n",
    "        print(\"Start computing accuracy...\")\n",
    "        pred_list = self.predict(data)\n",
    "        n = len(labels)\n",
    "        n_accuracy = (pred_list == labels.ravel()).sum()\n",
    "        print(\"Finish computing accuracy !\")\n",
    "        return n_accuracy/n"
   ]
  },
  {
   "cell_type": "code",
   "execution_count": 15,
   "metadata": {},
   "outputs": [
    {
     "name": "stdout",
     "output_type": "stream",
     "text": [
      "Start fitting...\n",
      "Finish fitting !\n",
      "Start computing accuracy...\n",
      "Finish computing accuracy !\n"
     ]
    },
    {
     "data": {
      "text/plain": [
       "0.837"
      ]
     },
     "execution_count": 15,
     "metadata": {},
     "output_type": "execute_result"
    }
   ],
   "source": [
    "nbc = NBC()\n",
    "nbc.fit(training_data, training_labels, 1)\n",
    "nbc.accuracy(validation_data[0:1000, :], validation_labels[0:1000, :])"
   ]
  }
 ],
 "metadata": {
  "kernelspec": {
   "display_name": "Python 3",
   "language": "python",
   "name": "python3"
  },
  "language_info": {
   "codemirror_mode": {
    "name": "ipython",
    "version": 3
   },
   "file_extension": ".py",
   "mimetype": "text/x-python",
   "name": "python",
   "nbconvert_exporter": "python",
   "pygments_lexer": "ipython3",
   "version": "3.7.1"
  }
 },
 "nbformat": 4,
 "nbformat_minor": 4
}

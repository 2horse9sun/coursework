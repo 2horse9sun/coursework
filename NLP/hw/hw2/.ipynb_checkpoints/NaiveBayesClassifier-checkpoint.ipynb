{
 "cells": [
  {
   "cell_type": "markdown",
   "metadata": {},
   "source": [
    "# 1 问题引入"
   ]
  },
  {
   "cell_type": "markdown",
   "metadata": {},
   "source": [
    "在讨论文本分类问题之前，先讨论一种普遍的分类问题，如构造一个垃圾邮件分类系统，它能把邮件分类为垃圾邮件和正常的邮件。这就是分类问题(Classification Problem)：给定多个数据点（在这种情况下，每一篇文章都是一个数据点），目标是把这些文章分为两类或更多类(class)。在分类问题中，给定一个训练集和相应的类别标签(label)（通常都是一些离散值），我们需要用这些训练数据（如邮件及其对应的两个标签之一）去学习出某种关系，利用这个关系我们可以去预测新的未知的数据的标签。下面，我们将详细讨论一种简单却有效的分类问题求解模型：朴素贝叶斯分类器(Naive Bayes Classifier)。"
   ]
  },
  {
   "cell_type": "markdown",
   "metadata": {},
   "source": [
    "# 2 计算模型"
   ]
  },
  {
   "cell_type": "markdown",
   "metadata": {},
   "source": [
    "## 2.1 朴素贝叶斯\n",
    "训练一个文本分类模型，我们需要一些已经一些预先分类好的数据。但是为了学习到有效的东西，我们需要从文本中抽取出一些特定的属性，即特征(feature)。特征可以是任何东西，如单词数量、文本模式等等。这些抽取出来的特征往往要取决于解决的问题，选择的特征对模型的性能有很大的影响。\n",
    "\n",
    "现在假设你有一个含有$n$个单词的词表(dictionary)，从每篇文章中，你抽取了一个特征向量(feature vector) $F\\in \\mathbf{R}^n$，$F$中的第$i$个随机变量$F_i$代表第$i$个词表中的单词的特征值，可以是出现频率(frequencey)，IF，IDF等等。使用以上定义，我们可以用数学语言去描述出如何预测某篇文章属于哪个分类：如果我们能知道每个特征$F_i$与标签$Y$之间的联合概率分布，我们就能在已知特征向量的情况下计算出该文章属于某种分类$C_i$的概率值，即:\n",
    "$$\n",
    "P(Y=C_i|F_1=f_1,\\cdots,F_n=f_n)\n",
    "$$\n",
    "我们只需要计算出所有文章属于$C_i$的概率，取最高概率的$C_i$作为文章的分类标签即可。但是，问题在于我们很难估算出每个特征$F_i$与标签$Y$之间的联合概率分布，即使估算出，分布表的条目将会非常多，在实际应用中几乎无法实现。因此，我们需要简化模型，做出如下假设：给定一个类别标签，每个特征$F_i$都独立于其他的特征。这是一个强模型假设(这就是朴素的原因)，但是它大大简化模型复杂度且效果较好。上述假设可以用如下的贝叶斯网来描述：\n",
    "\n",
    "使用简化过的模型，我们可以根据贝叶斯网做出预测，给定观察值$F_1,\\cdots,F_n$，选择$Y$的某个值使得条件概率分布值最大：\n",
    "\\begin{equation}\n",
    "\\begin{aligned}\n",
    "pred(f_1,\\cdots,f_n)\n",
    "=& argmax_C P(Y=C|F_1=f_1,\\cdots,F_N=f_n)\\\\\n",
    "=& argmax_C P(Y=C,F_1=f_1,\\cdots,F_N=f_n)\\\\\n",
    "=& argmax_C P(Y=C) \\prod_{i=1}^n P(F_i=f_i|Y=C)\\\\\n",
    "\\end{aligned}\n",
    "\\end{equation}\n",
    "把问题变得更为一般化：假设现在有$k$个分类标签，我们可以计算出:\n",
    "$$\n",
    "P(Y,F_1=f_1,\\cdots,F_n=f_n)=\n",
    "\\begin{bmatrix}\n",
    "P(Y=C_1) \\prod_{i}P(F_i=f_i|Y=C_1))\\\\\n",
    "P(Y=C_2) \\prod_{i}P(F_i=f_i|Y=C_2))\\\\\n",
    "\\vdots\\\\\n",
    "P(Y=C_k) \\prod_{i}P(F_i=f_i|Y=C_k))\n",
    "\\end{bmatrix}\n",
    "$$\n",
    "根据特征向量$F$预测得到的标签就是：\n",
    "$$\n",
    "pred(F)=argmax_{C_i}P(Y=C_i)\\prod_j P(F_j=f_j|Y=C_i)\n",
    "$$\n",
    "模型建立好之后，我们需要从训练集中得到某个类别标签的概率分布$P(Y=C)$和先验概率$P(F|Y=C)$，这就是下面要讨论的问题：参数估计(parameter estimation)。"
   ]
  },
  {
   "cell_type": "markdown",
   "metadata": {},
   "source": [
    "## 2.2 参数估计\n",
    "有$N$个样本点或观察值$x_1,\\cdots,x_n$，假设这些数据来源于参数为未知量$\\theta$的分布，即出现$x_i$的概率为$P_{\\theta}(x_i)$。\n",
    "\n",
    "如何从样本中学习出最有可能的$\\theta$值？最常用的方法是最大似然估计(MLE)。它要求样本服从独立同分布。定义以下的似然函数：\n",
    "$$\n",
    "\\mathcal{L}(\\theta)=P_{\\theta}(x_1,\\cdots,x_N)\n",
    "$$\n",
    "由于样本服从独立同分布：\n",
    "$$\n",
    "\\mathcal{L}(\\theta)=\\prod_{i=1}^N P_{\\theta}(x_i)\n",
    "$$\n",
    "我们需要找到某个$\\theta$使得似然函数的值最大，采用以下计算方法：\n",
    "$$\n",
    "\\frac{\\partial}{\\partial \\theta}\\mathcal{L}(\\theta)=0\n",
    "$$"
   ]
  },
  {
   "cell_type": "markdown",
   "metadata": {},
   "source": [
    "## 2.3 朴素贝叶斯的最大似然估计\n",
    "现在我们来估计朴素贝叶斯中的未知参量，先定义如下变量：\n",
    "1. $n$-词典里的单词数。\n",
    "2. $N$-训练集数目。$N_C$为训练集中类别为$C$的样本。\n",
    "3. $F_i$-词典中第$i$个单词的特征值，为了简化推导，假设$F_i$只能取0或1。\n",
    "4. $Y$-类别随机变量。\n",
    "5. $f_i^{(j)}$-第$j$个样本点的第$i$个特征。\n",
    "\n",
    "设$\\theta=P(F_i=1|Y=C)$，则：\n",
    "$$\n",
    "\\mathcal{L}(\\theta)=\\prod_{j=1}^{N_C} P(F_i=f_i^{(j)}|Y=C)=\\prod_{j=1}^{N_C} \\theta^{f_i^{(j)}}(1-\\theta)^{1-f_i^{(j)}}\n",
    "$$\n",
    "$$\n",
    "\\log\\mathcal{L}(\\theta)=\\log(\\theta)\\sum_{j=1}^{N_C}f_i^{(j)}+\\log(1-\\theta)\\sum_{j=1}^{N_C}(1-f_i^{(j)})\n",
    "$$\n",
    "$$\n",
    "\\frac{\\partial}{\\partial \\theta}\\log\\mathcal{L}(\\theta)=0\n",
    "$$\n",
    "$$\n",
    "\\theta=\\frac{1}{N_C}\\sum_{j=1}^{N_C}f_i^{(j)}\n",
    "$$"
   ]
  },
  {
   "cell_type": "markdown",
   "metadata": {},
   "source": [
    "## 2.4 平滑\n",
    "最大似然估计虽然很有效，但是如果出现估计出的概率为0的情况，将会极大地影响模型的性能。因此，我们需要对分类器做平滑处理(smooth)，最常用的是拉普拉斯平滑：\n",
    "$$\n",
    "P_{MLE}(x)=\\frac{count(x)}{N}\n",
    "$$\n",
    "$$\n",
    "P_{LAP,k}(x)=\\frac{count(x+k)}{N+k|X|}\n",
    "$$"
   ]
  },
  {
   "cell_type": "markdown",
   "metadata": {},
   "source": [
    "# 3 编程实现"
   ]
  },
  {
   "cell_type": "markdown",
   "metadata": {},
   "source": [
    "## 3.1 读取文本"
   ]
  },
  {
   "cell_type": "markdown",
   "metadata": {},
   "source": [
    "首先从文件夹中读取所有文本，保存所有文本的路径到列表`txt_paths`中，并记录下每篇文本的标签到`txt_labels`中。"
   ]
  },
  {
   "cell_type": "code",
   "execution_count": 3,
   "metadata": {},
   "outputs": [
    {
     "name": "stderr",
     "output_type": "stream",
     "text": [
      "[nltk_data] Downloading package punkt to\n",
      "[nltk_data]     C:\\Users\\jsjhf\\AppData\\Roaming\\nltk_data...\n",
      "[nltk_data]   Package punkt is already up-to-date!\n",
      "[nltk_data] Downloading package words to\n",
      "[nltk_data]     C:\\Users\\jsjhf\\AppData\\Roaming\\nltk_data...\n",
      "[nltk_data]   Package words is already up-to-date!\n",
      "[nltk_data] Downloading package averaged_perceptron_tagger to\n",
      "[nltk_data]     C:\\Users\\jsjhf\\AppData\\Roaming\\nltk_data...\n",
      "[nltk_data]   Package averaged_perceptron_tagger is already up-to-\n",
      "[nltk_data]       date!\n",
      "[nltk_data] Downloading package punkt to\n",
      "[nltk_data]     C:\\Users\\jsjhf\\AppData\\Roaming\\nltk_data...\n",
      "[nltk_data]   Package punkt is already up-to-date!\n",
      "[nltk_data] Downloading package words to\n",
      "[nltk_data]     C:\\Users\\jsjhf\\AppData\\Roaming\\nltk_data...\n",
      "[nltk_data]   Package words is already up-to-date!\n",
      "[nltk_data] Downloading package averaged_perceptron_tagger to\n",
      "[nltk_data]     C:\\Users\\jsjhf\\AppData\\Roaming\\nltk_data...\n",
      "[nltk_data]   Package averaged_perceptron_tagger is already up-to-\n",
      "[nltk_data]       date!\n"
     ]
    },
    {
     "data": {
      "text/plain": [
       "<module 'text_preprocessing' from 'C:\\\\Users\\\\jsjhf\\\\Desktop\\\\course\\\\coursework\\\\NLP\\\\hw\\\\hw2\\\\text_preprocessing.py'>"
      ]
     },
     "execution_count": 3,
     "metadata": {},
     "output_type": "execute_result"
    }
   ],
   "source": [
    "import scipy.io\n",
    "import random\n",
    "import matplotlib.pyplot as plt\n",
    "import numpy as np\n",
    "import sklearn\n",
    "import importlib\n",
    "import sys \n",
    "import os\n",
    "sys.path.append(\".\")\n",
    "# reload module in case that module changes\n",
    "import text_preprocessing\n",
    "importlib.reload(text_preprocessing)"
   ]
  },
  {
   "cell_type": "code",
   "execution_count": 3,
   "metadata": {},
   "outputs": [],
   "source": [
    "# load txt files\n",
    "base_path = \"20_newsgroups\"\n",
    "class_paths = os.listdir(base_path)\n",
    "txt_paths = []\n",
    "txt_labels = []\n",
    "for i in range(len(class_paths)):\n",
    "    files = os.listdir(os.path.join(base_path, class_paths[i]))\n",
    "    for file in files:\n",
    "        txt_paths.append(os.path.join(base_path, os.path.join(class_paths[i], file)))\n",
    "        txt_labels.append(i)"
   ]
  },
  {
   "cell_type": "markdown",
   "metadata": {},
   "source": [
    "## 3.2 文本预处理"
   ]
  },
  {
   "cell_type": "markdown",
   "metadata": {},
   "source": [
    "对每一篇读取的文本进行如下的预处理，使用的工具包和语料库为python的`nltk`包。\n",
    "\n",
    "1. 分词(tokenize)，将所有文本都分成单独的词和标点等。\n",
    "\n",
    "2. 去除非英文单词，如标点，数字，url以及外文单词。\n",
    "\n",
    "3. 去除停用词(stop words)。\n",
    "\n",
    "4. 将单词都转换为小写。\n",
    "\n",
    "5. 词性分析(POS tagging)，只保留名词。\n",
    "\n",
    "6. 词干提取(stemming)。\n",
    "\n",
    "7. 生成词条矩阵，特征量为每个单词的出现次数。\n",
    "\n",
    "8. 对每个单词在所有文章中的出现次数进行排序，只保留排名在前5000的单词作为特征量。\n",
    "\n",
    "9. 返回处理后的词条矩阵，大小为 $N\\times 5000$。\n",
    "\n",
    "详细的实现过程见`text_preprocessing.py`。"
   ]
  },
  {
   "cell_type": "code",
   "execution_count": 4,
   "metadata": {},
   "outputs": [
    {
     "name": "stdout",
     "output_type": "stream",
     "text": [
      "Start preprocessing...\n",
      "current: 2000\n",
      "current: 4000\n",
      "current: 6000\n",
      "current: 8000\n",
      "current: 10000\n",
      "current: 12000\n",
      "current: 14000\n",
      "current: 16000\n",
      "current: 18000\n",
      "Finish preprocessing !\n"
     ]
    }
   ],
   "source": [
    "# text preprocessing\n",
    "data = text_preprocessing.text_preprocessing(txt_paths)"
   ]
  },
  {
   "cell_type": "markdown",
   "metadata": {},
   "source": [
    "## 3.3 保存处理后的数据集"
   ]
  },
  {
   "cell_type": "markdown",
   "metadata": {},
   "source": [
    "将处理后的词条矩阵保存到文件夹中，便于下次直接读取数据。"
   ]
  },
  {
   "cell_type": "code",
   "execution_count": 7,
   "metadata": {},
   "outputs": [],
   "source": [
    "# save preprocessed data\n",
    "news_data = {\"data\": data, \"labels\": np.array(txt_labels).reshape((len(txt_labels), 1))}\n",
    "scipy.io.savemat('data/news_data.mat', news_data)"
   ]
  },
  {
   "cell_type": "markdown",
   "metadata": {},
   "source": [
    "## 3.4 划分数据集"
   ]
  },
  {
   "cell_type": "markdown",
   "metadata": {},
   "source": [
    "将读取的数据集分为两部分：训练集(75%)和测试集(25%)。注意，在分割之前，需要先对数据集进行随机排序，打乱标签分布，同时设置随机种子，便于结果复现。"
   ]
  },
  {
   "cell_type": "code",
   "execution_count": 4,
   "metadata": {},
   "outputs": [],
   "source": [
    "# load data\n",
    "load_data = scipy.io.loadmat('data/news_data.mat')\n",
    "news_data = load_data['data']\n",
    "news_labels = load_data['labels']\n",
    "\n",
    "# shuffle\n",
    "zipped_data = list(zip(news_data, news_labels))  \n",
    "random.seed(0)\n",
    "random.shuffle(zipped_data)\n",
    "new_zipped_data = list(map(list, zip(*zipped_data)))  \n",
    "news_data, news_labels = np.array(new_zipped_data[0]), np.array(new_zipped_data[1])  \n",
    "\n",
    "# split data into training and test sets\n",
    "training_data = news_data[:15000, :]\n",
    "training_labels = news_labels[:15000]\n",
    "test_data = news_data[15000:, :]\n",
    "test_labels = news_labels[15000:]"
   ]
  },
  {
   "cell_type": "markdown",
   "metadata": {},
   "source": [
    "## 3.5 建立朴素贝叶斯模型"
   ]
  },
  {
   "cell_type": "markdown",
   "metadata": {},
   "source": [
    "下面实现基于文本分类的朴素贝叶斯模型，与上文理论推导部分不同，我们需要对模型的一些参数做一些改动。\n",
    "\n",
    "给定文档$d$，它属于类别$c$的概率为：\n",
    "$$\n",
    "P(c|d)=\\frac{P(c)\\prod_{w\\in d}P(w|c)^{n_{wd}}}{P(d)}\n",
    "$$\n",
    "其中，$n_{wd}$表示在文档$d$中单词$w$出现的次数，$P(w|c)$表示在给定类别$c$下出现单词$w$的概率，$P(c)$为类别$c$的出现概率。$P(c)$的估计方法与上文相同，$P(w|c)$的估计值为：\n",
    "$$\n",
    "P(w|c)=\\frac{k+\\sum_{d\\in D_c}n_{wd}}{k|voc|+\\sum_{w'}\\sum_{d\\in D_c}n_{w'd}}\n",
    "$$\n",
    "其中$D_c$是所有$c$类别的文档的集合，$|voc|$为词表的大小，$k$为拉普拉斯平滑的超参数。\n",
    "\n",
    "构造朴素贝叶斯分类器`NBC`，下面是对其方法的说明：\n",
    "\n",
    "1. `compute_log_Pc`：计算$\\log P(c)$。\n",
    "\n",
    "2. `compute_log_prior`：计算$\\log P(w|c)$。上面两个参数均取对数的原因是概率值可能会非常小，取对数能提高计算精度。\n",
    "\n",
    "3. `fit`：输入训练集，拟合模型，即计算出$P(c)$和$P(w|c)$。\n",
    "\n",
    "4. `predict`：输入一系列文档的特征量，通过拟合好的模型给出预测，返回标签列表。\n",
    "\n",
    "5. `accuracy`：输入一系列文档的特征量，计算出预测的准确率。"
   ]
  },
  {
   "cell_type": "code",
   "execution_count": 16,
   "metadata": {},
   "outputs": [],
   "source": [
    "# Naive Bayes Classifier\n",
    "class NBC:\n",
    "    def __init__(self):\n",
    "        # P(y=c)\n",
    "        self.log_Pc = 0\n",
    "        \n",
    "        # P(F=f|Y=c)\n",
    "        self.log_prior = 0\n",
    "        \n",
    "        # training size\n",
    "        self.N = 0\n",
    "        \n",
    "        # dimension\n",
    "        self.d = 0\n",
    "        self.class_size = 0\n",
    "        \n",
    "    def compute_log_Pc(self, data, labels):\n",
    "        log_training_size = np.log(self.N)\n",
    "        for c in range(self.class_size):\n",
    "            c_data = data[labels.ravel()==c, :]\n",
    "            self.log_Pc[c] = np.log(c_data.shape[0]) - log_training_size\n",
    "            \n",
    "    def compute_log_prior(self, data, labels, k):\n",
    "        for c in range(self.class_size):\n",
    "            c_data = data[labels.ravel()==c, :]\n",
    "            all_cnt = c_data.sum()\n",
    "            for f in range(self.d):\n",
    "                log_cnt = np.log(c_data[:, f].sum()+k)\n",
    "                log_all_cnt = np.log(all_cnt+k*self.d)\n",
    "                self.log_prior[c][f] = log_cnt - log_all_cnt\n",
    "    \n",
    "    def fit(self, data, labels, k):\n",
    "        print(\"Start fitting...\")\n",
    "        self.N = data.shape[0]\n",
    "        self.d = data.shape[1]\n",
    "        self.class_size = len(set(labels.ravel()))\n",
    "        self.log_Pc = np.zeros((self.class_size, ))\n",
    "        self.log_prior = np.zeros((self.class_size, self.d))\n",
    "        self.compute_log_Pc(data, labels)\n",
    "        self.compute_log_prior(data, labels, k)\n",
    "        print(\"Finish fitting !\")\n",
    "    \n",
    "    # Input: n×d\n",
    "    # Output: n×1\n",
    "    def predict(self, data):\n",
    "        pred_list = []\n",
    "        for X in data:\n",
    "            max_log_prob = float('-inf')\n",
    "            pred_c = 0\n",
    "            for c in range(self.class_size):\n",
    "                log_prob = self.log_Pc[c]\n",
    "                for f in range(self.d):\n",
    "                    log_prob += self.log_prior[c][f]*np.log(1+X[f])\n",
    "                if log_prob > max_log_prob:\n",
    "                    max_log_prob = log_prob\n",
    "                    pred_c = c\n",
    "            pred_list.append(pred_c)\n",
    "        return pred_list\n",
    "    \n",
    "    # compute accuracy\n",
    "    def accuracy(self, data, labels):\n",
    "        print(\"Start computing accuracy...\")\n",
    "        pred_list = self.predict(data)\n",
    "        n = len(labels)\n",
    "        n_accuracy = (pred_list == labels.ravel()).sum()\n",
    "        print(\"Finish computing accuracy !\")\n",
    "        return n_accuracy/n"
   ]
  },
  {
   "cell_type": "markdown",
   "metadata": {},
   "source": [
    "## 3.6 交叉验证"
   ]
  },
  {
   "cell_type": "markdown",
   "metadata": {},
   "source": [
    "下面开始训练模型，这里采用5折交叉验证的方法，这有利于：\n",
    "1. 有效评估模型的质量\n",
    "2. 有效选择在数据集上表现最好的模型\n",
    "3. 有效避免过拟合和欠拟合\n",
    "\n",
    "但是交叉验证的计算量非常大，需要花费较长的时间。"
   ]
  },
  {
   "cell_type": "code",
   "execution_count": 17,
   "metadata": {},
   "outputs": [],
   "source": [
    "# split training data into k partitions, each partition will serve as validation set once\n",
    "def k_fold_split(training_data, training_labels, k):\n",
    "    partitions = []\n",
    "    total = training_data.shape[0]\n",
    "    partition_size = total // k\n",
    "    for i in range(k):\n",
    "        idx_start = i*partition_size\n",
    "        idx_end = min((i+1)*partition_size, total)\n",
    "        dictionary = {}\n",
    "        dictionary['training_data_partition'] = np.concatenate((training_data[0:idx_start, :], training_data[idx_end:, :]), axis=0)\n",
    "        dictionary['training_labels_partition'] = np.concatenate((training_labels[0:idx_start, :], training_labels[idx_end:, :]), axis=0)\n",
    "        dictionary['validation_data_partition'] = training_data[idx_start:idx_end, :]\n",
    "        dictionary['validation_labels_partition'] = training_labels[idx_start:idx_end, :]\n",
    "        partitions.append(dictionary)\n",
    "    return partitions\n",
    "    \n",
    "# compute the accuracy of k-fold cross validation\n",
    "def cross_validation(nbc, partitions, k):\n",
    "    avg_accuracy = 0\n",
    "    for dictionary in partitions:\n",
    "        training_data_partition = dictionary['training_data_partition']\n",
    "        training_labels_partition = dictionary['training_labels_partition']\n",
    "        validation_data_partition = dictionary['validation_data_partition']\n",
    "        validation_labels_partition = dictionary['validation_labels_partition']\n",
    "        nbc.fit(training_data_partition, training_labels_partition, k)\n",
    "        avg_accuracy += nbc.accuracy(validation_data_partition, validation_labels_partition)\n",
    "    return avg_accuracy/len(partitions)"
   ]
  },
  {
   "cell_type": "markdown",
   "metadata": {},
   "source": [
    "训练集数量不同时，交叉验证的准确率："
   ]
  },
  {
   "cell_type": "code",
   "execution_count": 18,
   "metadata": {},
   "outputs": [
    {
     "name": "stdout",
     "output_type": "stream",
     "text": [
      "Start fitting...\n",
      "Finish fitting !\n",
      "Start computing accuracy...\n",
      "Finish computing accuracy !\n",
      "Start fitting...\n",
      "Finish fitting !\n",
      "Start computing accuracy...\n",
      "Finish computing accuracy !\n",
      "Start fitting...\n",
      "Finish fitting !\n",
      "Start computing accuracy...\n",
      "Finish computing accuracy !\n",
      "Start fitting...\n",
      "Finish fitting !\n",
      "Start computing accuracy...\n",
      "Finish computing accuracy !\n",
      "Start fitting...\n",
      "Finish fitting !\n",
      "Start computing accuracy...\n",
      "Finish computing accuracy !\n",
      "Start fitting...\n",
      "Finish fitting !\n",
      "Start computing accuracy...\n",
      "Finish computing accuracy !\n",
      "Start fitting...\n",
      "Finish fitting !\n",
      "Start computing accuracy...\n",
      "Finish computing accuracy !\n",
      "Start fitting...\n",
      "Finish fitting !\n",
      "Start computing accuracy...\n",
      "Finish computing accuracy !\n",
      "Start fitting...\n",
      "Finish fitting !\n",
      "Start computing accuracy...\n",
      "Finish computing accuracy !\n",
      "Start fitting...\n",
      "Finish fitting !\n",
      "Start computing accuracy...\n",
      "Finish computing accuracy !\n",
      "Start fitting...\n",
      "Finish fitting !\n",
      "Start computing accuracy...\n",
      "Finish computing accuracy !\n",
      "Start fitting...\n",
      "Finish fitting !\n",
      "Start computing accuracy...\n",
      "Finish computing accuracy !\n",
      "Start fitting...\n",
      "Finish fitting !\n",
      "Start computing accuracy...\n",
      "Finish computing accuracy !\n",
      "Start fitting...\n",
      "Finish fitting !\n",
      "Start computing accuracy...\n",
      "Finish computing accuracy !\n",
      "Start fitting...\n",
      "Finish fitting !\n",
      "Start computing accuracy...\n",
      "Finish computing accuracy !\n",
      "Start fitting...\n",
      "Finish fitting !\n",
      "Start computing accuracy...\n",
      "Finish computing accuracy !\n",
      "Start fitting...\n",
      "Finish fitting !\n",
      "Start computing accuracy...\n",
      "Finish computing accuracy !\n",
      "Start fitting...\n",
      "Finish fitting !\n",
      "Start computing accuracy...\n",
      "Finish computing accuracy !\n",
      "Start fitting...\n",
      "Finish fitting !\n",
      "Start computing accuracy...\n",
      "Finish computing accuracy !\n",
      "Start fitting...\n",
      "Finish fitting !\n",
      "Start computing accuracy...\n",
      "Finish computing accuracy !\n",
      "Start fitting...\n",
      "Finish fitting !\n",
      "Start computing accuracy...\n",
      "Finish computing accuracy !\n",
      "Start fitting...\n",
      "Finish fitting !\n",
      "Start computing accuracy...\n",
      "Finish computing accuracy !\n",
      "Start fitting...\n",
      "Finish fitting !\n",
      "Start computing accuracy...\n",
      "Finish computing accuracy !\n",
      "Start fitting...\n",
      "Finish fitting !\n",
      "Start computing accuracy...\n",
      "Finish computing accuracy !\n",
      "Start fitting...\n",
      "Finish fitting !\n",
      "Start computing accuracy...\n",
      "Finish computing accuracy !\n"
     ]
    },
    {
     "data": {
      "text/plain": [
       "<matplotlib.legend.Legend at 0x22b04d03550>"
      ]
     },
     "execution_count": 18,
     "metadata": {},
     "output_type": "execute_result"
    },
    {
     "data": {
      "image/png": "[encoded data removed]",
      "text/plain": [
       "<Figure size 432x288 with 1 Axes>"
      ]
     },
     "metadata": {
      "needs_background": "light"
     },
     "output_type": "display_data"
    }
   ],
   "source": [
    "# 5-fold cross validation\n",
    "training_size = [3000, 6000, 9000, 12000, 15000]\n",
    "accuracy_list = []\n",
    "nbc = NBC()\n",
    "for size in training_size:\n",
    "    partitions = k_fold_split(training_data[:size, :], training_labels[:size, :], 5)\n",
    "    accuracy_list.append(cross_validation(nbc, partitions, 1))\n",
    "    \n",
    "# plot\n",
    "plt.plot(training_size, accuracy_list, label='cross validation accuracy', marker=\"x\")\n",
    "plt.xlabel('number of training examples')\n",
    "plt.ylabel('accuracy')\n",
    "plt.title(\"accuracy on the cross validation versus the number of training examples\")\n",
    "plt.grid(True)\n",
    "plt.legend()"
   ]
  },
  {
   "cell_type": "markdown",
   "metadata": {},
   "source": [
    "## 3.7 确定最优超参数"
   ]
  },
  {
   "cell_type": "markdown",
   "metadata": {},
   "source": [
    "在上面的测试中，拉普拉斯平滑的超参数$k$一直都取的1。现在，我们用交叉验证的方法选择出使模型准确率最高的$k$作为最终模型的参数。由于交叉验证的计算量很大，只取了少量的$k$值。"
   ]
  },
  {
   "cell_type": "code",
   "execution_count": 19,
   "metadata": {},
   "outputs": [
    {
     "name": "stdout",
     "output_type": "stream",
     "text": [
      "Start fitting...\n",
      "Finish fitting !\n",
      "Start computing accuracy...\n",
      "Finish computing accuracy !\n",
      "Start fitting...\n",
      "Finish fitting !\n",
      "Start computing accuracy...\n",
      "Finish computing accuracy !\n",
      "Start fitting...\n",
      "Finish fitting !\n",
      "Start computing accuracy...\n",
      "Finish computing accuracy !\n",
      "Start fitting...\n",
      "Finish fitting !\n",
      "Start computing accuracy...\n",
      "Finish computing accuracy !\n",
      "Start fitting...\n",
      "Finish fitting !\n",
      "Start computing accuracy...\n",
      "Finish computing accuracy !\n",
      "Start fitting...\n",
      "Finish fitting !\n",
      "Start computing accuracy...\n",
      "Finish computing accuracy !\n",
      "Start fitting...\n",
      "Finish fitting !\n",
      "Start computing accuracy...\n",
      "Finish computing accuracy !\n",
      "Start fitting...\n",
      "Finish fitting !\n",
      "Start computing accuracy...\n",
      "Finish computing accuracy !\n",
      "Start fitting...\n",
      "Finish fitting !\n",
      "Start computing accuracy...\n",
      "Finish computing accuracy !\n",
      "Start fitting...\n",
      "Finish fitting !\n",
      "Start computing accuracy...\n",
      "Finish computing accuracy !\n",
      "Start fitting...\n",
      "Finish fitting !\n",
      "Start computing accuracy...\n",
      "Finish computing accuracy !\n",
      "Start fitting...\n",
      "Finish fitting !\n",
      "Start computing accuracy...\n",
      "Finish computing accuracy !\n",
      "Start fitting...\n",
      "Finish fitting !\n",
      "Start computing accuracy...\n",
      "Finish computing accuracy !\n",
      "Start fitting...\n",
      "Finish fitting !\n",
      "Start computing accuracy...\n",
      "Finish computing accuracy !\n",
      "Start fitting...\n",
      "Finish fitting !\n",
      "Start computing accuracy...\n",
      "Finish computing accuracy !\n",
      "Start fitting...\n",
      "Finish fitting !\n",
      "Start computing accuracy...\n",
      "Finish computing accuracy !\n",
      "Start fitting...\n",
      "Finish fitting !\n",
      "Start computing accuracy...\n",
      "Finish computing accuracy !\n",
      "Start fitting...\n",
      "Finish fitting !\n",
      "Start computing accuracy...\n",
      "Finish computing accuracy !\n",
      "Start fitting...\n",
      "Finish fitting !\n",
      "Start computing accuracy...\n",
      "Finish computing accuracy !\n",
      "Start fitting...\n",
      "Finish fitting !\n",
      "Start computing accuracy...\n",
      "Finish computing accuracy !\n",
      "Start fitting...\n",
      "Finish fitting !\n",
      "Start computing accuracy...\n",
      "Finish computing accuracy !\n",
      "Start fitting...\n",
      "Finish fitting !\n",
      "Start computing accuracy...\n",
      "Finish computing accuracy !\n",
      "Start fitting...\n",
      "Finish fitting !\n",
      "Start computing accuracy...\n",
      "Finish computing accuracy !\n",
      "Start fitting...\n",
      "Finish fitting !\n",
      "Start computing accuracy...\n",
      "Finish computing accuracy !\n",
      "Start fitting...\n",
      "Finish fitting !\n",
      "Start computing accuracy...\n",
      "Finish computing accuracy !\n"
     ]
    },
    {
     "data": {
      "text/plain": [
       "<matplotlib.legend.Legend at 0x22b02e457f0>"
      ]
     },
     "execution_count": 19,
     "metadata": {},
     "output_type": "execute_result"
    },
    {
     "data": {
      "image/png": "[encoded data removed]",
      "text/plain": [
       "<Figure size 432x288 with 1 Axes>"
      ]
     },
     "metadata": {
      "needs_background": "light"
     },
     "output_type": "display_data"
    }
   ],
   "source": [
    "# 5-fold cross validation\n",
    "k_list = [i for i in range(1, 6)]\n",
    "accuracy_list = []\n",
    "nbc = NBC()\n",
    "for k in k_list:\n",
    "    partitions = k_fold_split(training_data, training_labels, 5)\n",
    "    accuracy_list.append(cross_validation(nbc, partitions, k))\n",
    "    \n",
    "# plot\n",
    "plt.plot(k_list, accuracy_list, label='cross validation accuracy', marker=\"x\")\n",
    "plt.xlabel('smooth hyperparameter k')\n",
    "plt.ylabel('accuracy')\n",
    "plt.title(\"accuracy on the cross validation versus the smooth hyperparameter k\")\n",
    "plt.grid(True)\n",
    "plt.legend()"
   ]
  },
  {
   "cell_type": "markdown",
   "metadata": {},
   "source": [
    "从上图中可以发现：当$k=3$时，模型的预测准确率较高。"
   ]
  },
  {
   "cell_type": "markdown",
   "metadata": {},
   "source": [
    "# 4 模型评估"
   ]
  },
  {
   "cell_type": "markdown",
   "metadata": {},
   "source": [
    "## 4.1 最终模型测试结果"
   ]
  },
  {
   "cell_type": "markdown",
   "metadata": {},
   "source": [
    "训练集数量：15000，测试集数量：4996，$k$取值为3，下面为模型测试结果："
   ]
  },
  {
   "cell_type": "code",
   "execution_count": 20,
   "metadata": {},
   "outputs": [
    {
     "name": "stdout",
     "output_type": "stream",
     "text": [
      "Start fitting...\n",
      "Finish fitting !\n",
      "              precision    recall  f1-score   support\n",
      "\n",
      "           0       0.81      0.76      0.78       283\n",
      "           1       0.85      0.78      0.81       265\n",
      "           2       0.74      0.71      0.73       263\n",
      "           3       0.73      0.71      0.72       255\n",
      "           4       0.89      0.83      0.86       306\n",
      "           5       0.74      0.84      0.79       236\n",
      "           6       0.81      0.81      0.81       243\n",
      "           7       0.85      0.90      0.87       216\n",
      "           8       0.90      0.95      0.93       222\n",
      "           9       0.97      0.98      0.98       242\n",
      "          10       1.00      0.95      0.97       250\n",
      "          11       0.98      0.93      0.96       260\n",
      "          12       0.87      0.88      0.87       264\n",
      "          13       0.90      0.99      0.94       238\n",
      "          14       0.93      0.97      0.95       225\n",
      "          15       0.95      0.94      0.94       247\n",
      "          16       0.90      0.79      0.84       300\n",
      "          17       0.91      0.94      0.92       243\n",
      "          18       0.74      0.72      0.73       243\n",
      "          19       0.50      0.62      0.55       195\n",
      "\n",
      "    accuracy                           0.85      4996\n",
      "   macro avg       0.85      0.85      0.85      4996\n",
      "weighted avg       0.85      0.85      0.85      4996\n",
      "\n"
     ]
    }
   ],
   "source": [
    "nbc = NBC()\n",
    "nbc.fit(training_data, training_labels, 3)\n",
    "from sklearn.metrics import classification_report,confusion_matrix\n",
    "print(classification_report(nbc.predict(test_data),test_labels))"
   ]
  },
  {
   "cell_type": "markdown",
   "metadata": {},
   "source": [
    "## 4.2 准确率、精确率、召回率和F1值"
   ]
  }
 ],
 "metadata": {
  "kernelspec": {
   "display_name": "Python 3",
   "language": "python",
   "name": "python3"
  },
  "language_info": {
   "codemirror_mode": {
    "name": "ipython",
    "version": 3
   },
   "file_extension": ".py",
   "mimetype": "text/x-python",
   "name": "python",
   "nbconvert_exporter": "python",
   "pygments_lexer": "ipython3",
   "version": "3.8.3"
  }
 },
 "nbformat": 4,
 "nbformat_minor": 4
}

{
 "cells": [
  {
   "cell_type": "markdown",
   "metadata": {},
   "source": [
    "# 1 问题引入"
   ]
  },
  {
   "cell_type": "markdown",
   "metadata": {},
   "source": [
    "# 2 计算模型"
   ]
  },
  {
   "cell_type": "markdown",
   "metadata": {},
   "source": [
    "# 3 编程实现"
   ]
  },
  {
   "cell_type": "markdown",
   "metadata": {},
   "source": [
    "## 3.1 K-means"
   ]
  },
  {
   "cell_type": "code",
   "execution_count": 3,
   "metadata": {},
   "outputs": [],
   "source": [
    "import scipy.io\n",
    "import scipy\n",
    "import random\n",
    "import matplotlib.pyplot as plt\n",
    "import numpy as np\n",
    "import sklearn\n",
    "import importlib\n",
    "import sys \n",
    "import os"
   ]
  },
  {
   "cell_type": "code",
   "execution_count": 2,
   "metadata": {},
   "outputs": [],
   "source": [
    "# load data\n",
    "load_data = scipy.io.loadmat('data/news_data.mat')\n",
    "news_data = load_data['data']\n",
    "news_labels = load_data['labels']\n",
    "\n",
    "# shuffle\n",
    "zipped_data = list(zip(news_data, news_labels))  \n",
    "random.seed(0)\n",
    "random.shuffle(zipped_data)\n",
    "new_zipped_data = list(map(list, zip(*zipped_data)))  \n",
    "news_data, news_labels = np.array(new_zipped_data[0]), np.array(new_zipped_data[1])  \n",
    "\n",
    "# split data into training and test sets\n",
    "training_data = news_data[:1000, 4900:]\n",
    "training_labels = news_labels[:1000]\n",
    "test_data = news_data[15000:, :]\n",
    "test_labels = news_labels[15000:]"
   ]
  },
  {
   "cell_type": "code",
   "execution_count": 1,
   "metadata": {},
   "outputs": [],
   "source": [
    "# K-means\n",
    "class KMeans:\n",
    "    def __init__(self):\n",
    "        # K\n",
    "        self.K = 0\n",
    "        # assignments\n",
    "        self.C = 0\n",
    "        # mean vectors\n",
    "        self.m = 0\n",
    "        # loss function\n",
    "        self.loss_fn = 0\n",
    "        # N data points\n",
    "        self.N = 0\n",
    "        # dimension\n",
    "        self.d = 0\n",
    "        \n",
    "    def generate_random_means(self, data):\n",
    "        m = np.zeros((self.K, self.d))\n",
    "        for k in range(self.K):\n",
    "            m[k] = data[int(random.random()*self.N)]\n",
    "        return m\n",
    "    \n",
    "    def squared_euclidean_dist(self, u, v):\n",
    "        diff = u - v\n",
    "        return sum(diff*diff)\n",
    "    \n",
    "    def fit(self, data, K, max_iter):\n",
    "        print(\"Start fitting...\")\n",
    "        self.K = K\n",
    "        self.N = data.shape[0]\n",
    "        self.d = data.shape[1]\n",
    "        self.C = np.zeros((self.N, 1))\n",
    "        self.loss_fn = np.zeros((self.N, 1))\n",
    "        \n",
    "        cnt = 0\n",
    "        self.m = self.generate_random_means(data)\n",
    "        \n",
    "        while cnt < max_iter:\n",
    "            changed = False\n",
    "            \n",
    "            for i in range(self.N):\n",
    "                min_dissimilarity = float('inf')\n",
    "                min_k = 0\n",
    "                for k in range(self.m.shape[0]):\n",
    "                    dissimilarity = self.squared_euclidean_dist(data[i], self.m[k])\n",
    "                    if dissimilarity < min_dissimilarity:\n",
    "                        min_dissimilarity = dissimilarity\n",
    "                        min_k = k\n",
    "                self.loss_fn[i] = min_dissimilarity\n",
    "                if self.C[i] != min_k:\n",
    "                    self.C[i] =min_k\n",
    "                    changed = True\n",
    "                    \n",
    "            for k in range(self.m.shape[0]):\n",
    "                data_k = data[self.C.ravel()==k]\n",
    "                if data_k.shape[0] != 0:\n",
    "                    self.m[k] = np.sum(data_k, axis=0) / data_k.shape[0]\n",
    "                \n",
    "            cnt += 1\n",
    "            if not changed:\n",
    "                print(\"converged!\")\n",
    "                break\n",
    "        \n",
    "        print(\"Finish fitting !\")"
   ]
  },
  {
   "cell_type": "code",
   "execution_count": 4,
   "metadata": {},
   "outputs": [
    {
     "name": "stdout",
     "output_type": "stream",
     "text": [
      "Start fitting...\n",
      "Finish fitting !\n"
     ]
    }
   ],
   "source": [
    "km = KMeans()\n",
    "km.fit(training_data, 20, 10)"
   ]
  },
  {
   "cell_type": "markdown",
   "metadata": {},
   "source": [
    "## 3.2 Gaussian Mixture Model"
   ]
  },
  {
   "cell_type": "code",
   "execution_count": 7,
   "metadata": {},
   "outputs": [],
   "source": [
    "# load data\n",
    "load_data = scipy.io.loadmat('data/news_data.mat')\n",
    "news_data = load_data['data']\n",
    "news_labels = load_data['labels']\n",
    "\n",
    "# shuffle\n",
    "zipped_data = list(zip(news_data, news_labels))  \n",
    "random.seed(0)\n",
    "random.shuffle(zipped_data)\n",
    "new_zipped_data = list(map(list, zip(*zipped_data)))  \n",
    "news_data, news_labels = np.array(new_zipped_data[0]), np.array(new_zipped_data[1])  \n",
    "\n",
    "# split data into training and test sets\n",
    "training_data = news_data[:100, 4990:]\n",
    "training_labels = news_labels[:100]\n",
    "test_data = news_data[15000:, :]\n",
    "test_labels = news_labels[15000:]"
   ]
  },
  {
   "cell_type": "code",
   "execution_count": 66,
   "metadata": {},
   "outputs": [],
   "source": [
    "# K-means\n",
    "class GMM:\n",
    "    def __init__(self):\n",
    "        # K\n",
    "        self.K = 0\n",
    "        # N data points\n",
    "        self.N = 0\n",
    "        # dimension\n",
    "        self.d = 0\n",
    "        # prior\n",
    "        self.pi = 0\n",
    "        # means\n",
    "        self.u = 0\n",
    "        # covarience\n",
    "        self.sigma = 0\n",
    "        # responsibility\n",
    "        # self.r = 0\n",
    "        \n",
    "    def gaussian_pdf(self, x, u, sigma):\n",
    "        if np.linalg.det(sigma)==0:\n",
    "            return 1\n",
    "        return 1/(np.sqrt(abs(np.linalg.det(sigma))))*np.exp(-(x-u).dot(scipy.linalg.pinv(sigma).dot(x.T-u.T))/2)\n",
    "        \n",
    "    # E step\n",
    "    def expectation_step(self, x, k):\n",
    "        numerator = self.pi[k]*self.gaussian_pdf(x, self.u[k], self.sigma[k])\n",
    "        denominator = sum([self.pi[j]*self.gaussian_pdf(x, self.u[j], self.sigma[j]) for j in range(self.K)])\n",
    "        if denominator==0:\n",
    "             return 0\n",
    "        return numerator/denominator\n",
    "        \n",
    "    # M step\n",
    "    def maximization_step(self, data, k):\n",
    "        N_k = self.r.sum()\n",
    "        pi_k = N_k/self.N\n",
    "        u_k = np.zeros(self.d)\n",
    "        for i in range(self.N):\n",
    "            u_k += self.r[k][i]*data[i]\n",
    "        sigma_k = np.zeros((self.d,self.d))\n",
    "        for i in range(self.N):\n",
    "            sigma_k += self.r[k][i]*(data[i].T-u_k.T).dot(data[i]-u_k)\n",
    "        sigma_k = sigma_k/N_k\n",
    "        return pi_k, u_k, sigma_k\n",
    "        \n",
    "    \n",
    "    def fit(self, data, K, max_iter):\n",
    "        print(\"Start fitting...\")\n",
    "        self.K = K\n",
    "        self.N = data.shape[0]\n",
    "        self.d = data.shape[1]\n",
    "        self.pi = np.ones((self.K, 1))/self.K\n",
    "        self.u = np.random.rand(self.K, self.d)\n",
    "        self.sigma = np.zeros((self.K, self.d, self.d))\n",
    "        for k in range(self.K):\n",
    "            self.sigma[k] = np.random.rand(self.d, self.d)\n",
    "        self.r = np.zeros((self.K, self.N))\n",
    "        \n",
    "        cnt = 0        \n",
    "        while cnt < max_iter:\n",
    "            changed = False\n",
    "            \n",
    "            # E step\n",
    "            for k in range(self.K):\n",
    "                for i in range(self.N):\n",
    "                    r_ki = self.expectation_step(data[i], k)\n",
    "                    if r_ki != self.r[k][i]:\n",
    "                        self.r[k][i] = r_ki\n",
    "                        changed = True\n",
    "            \n",
    "            # M step\n",
    "            for k in range(self.K):\n",
    "                pi_k, u_k, sigma_k = self.maximization_step(data, k)\n",
    "                if pi_k.all()!=self.pi[k].all() or u_k.all()!=self.u[k].all() or sigma_k.all()!=self.sigma[k].all():\n",
    "                    self.pi[k], self.u[k], self.sigma[k] = pi_k, u_k, sigma_k\n",
    "                    changed = True\n",
    "                \n",
    "            cnt += 1\n",
    "            if not changed:\n",
    "                print(\"converged!\")\n",
    "                break\n",
    "        \n",
    "        print(\"Finish fitting !\")"
   ]
  },
  {
   "cell_type": "code",
   "execution_count": 75,
   "metadata": {},
   "outputs": [
    {
     "name": "stdout",
     "output_type": "stream",
     "text": [
      "Start fitting...\n"
     ]
    },
    {
     "name": "stderr",
     "output_type": "stream",
     "text": [
      "<ipython-input-66-912f12a34c34>:22: RuntimeWarning: overflow encountered in exp\n",
      "  return 1/(np.sqrt(abs(np.linalg.det(sigma))))*np.exp(-(x-u).dot(scipy.linalg.pinv(sigma).dot(x.T-u.T))/2)\n",
      "<ipython-input-66-912f12a34c34>:30: RuntimeWarning: invalid value encountered in true_divide\n",
      "  return numerator/denominator\n"
     ]
    },
    {
     "name": "stdout",
     "output_type": "stream",
     "text": [
      "Finish fitting !\n"
     ]
    }
   ],
   "source": [
    "gmm = GMM()\n",
    "gmm.fit(training_data, 20, 10)"
   ]
  },
  {
   "cell_type": "code",
   "execution_count": 76,
   "metadata": {},
   "outputs": [
    {
     "data": {
      "text/plain": [
       "array([[0.05330126, 0.07202264, 0.66224688, 0.77956611, 0.68166415,\n",
       "        0.95471968, 0.53383551, 0.29777572, 0.12442023, 0.6070693 ],\n",
       "       [0.87604563, 0.79627107, 0.10475228, 0.68158897, 0.2694265 ,\n",
       "        0.69304146, 0.49774665, 0.55433928, 0.26812896, 0.75895035],\n",
       "       [0.14096206, 0.98021999, 0.21808375, 0.64617968, 0.09054794,\n",
       "        0.66030935, 0.52141545, 0.47867006, 0.64142794, 0.02108312],\n",
       "       [0.38332607, 0.7710274 , 0.5109666 , 0.66567261, 0.81701583,\n",
       "        0.3814373 , 0.00390307, 0.25836569, 0.26700038, 0.32406001],\n",
       "       [0.128912  , 0.56532943, 0.23095228, 0.75194695, 0.3922915 ,\n",
       "        0.02546639, 0.99369061, 0.61689255, 0.64011767, 0.68509954],\n",
       "       [0.68466947, 0.6709501 , 0.62243069, 0.33356903, 0.15546159,\n",
       "        0.93762104, 0.28403063, 0.98876617, 0.24666508, 0.49314577],\n",
       "       [0.89733215, 0.17867856, 0.18335707, 0.37335816, 0.13993649,\n",
       "        0.79587307, 0.62395807, 0.50276732, 0.09764772, 0.93802451],\n",
       "       [0.47595753, 0.9118602 , 0.39929558, 0.68479637, 0.11603686,\n",
       "        0.5623735 , 0.92913116, 0.04632489, 0.13591684, 0.80054139],\n",
       "       [0.83708181, 0.46524588, 0.02467821, 0.16533523, 0.43596664,\n",
       "        0.74807546, 0.14805377, 0.60122208, 0.46862626, 0.14419893],\n",
       "       [0.94724016, 0.39295623, 0.52809249, 0.98475776, 0.8764147 ,\n",
       "        0.16751773, 0.17795272, 0.62454453, 0.10415159, 0.88333069],\n",
       "       [0.08515657, 0.90261589, 0.32839153, 0.60423988, 0.61666151,\n",
       "        0.09694393, 0.06380355, 0.97023734, 0.19376458, 0.9173459 ],\n",
       "       [0.75849182, 0.1912234 , 0.7183839 , 0.64210625, 0.23123079,\n",
       "        0.02380258, 0.63543305, 0.72927997, 0.22799475, 0.2966395 ],\n",
       "       [0.89022325, 0.86416806, 0.05144722, 0.37612372, 0.68718074,\n",
       "        0.50859217, 0.8325781 , 0.81729532, 0.38110125, 0.30522897],\n",
       "       [0.87869705, 0.56099896, 0.38390373, 0.54571232, 0.06682471,\n",
       "        0.67810855, 0.60648407, 0.78266927, 0.59864979, 0.23141521],\n",
       "       [0.04089536, 0.78147678, 0.92077659, 0.17397111, 0.84157186,\n",
       "        0.63372958, 0.16785376, 0.39969128, 0.98813695, 0.86851191],\n",
       "       [0.99579566, 0.76525769, 0.60015014, 0.11397011, 0.26688788,\n",
       "        0.7957602 , 0.85570589, 0.71556776, 0.31923868, 0.36438534],\n",
       "       [0.0087369 , 0.41632375, 0.21587982, 0.9514769 , 0.0730469 ,\n",
       "        0.44588341, 0.81578234, 0.71054542, 0.5310937 , 0.85954764],\n",
       "       [0.10861534, 0.69881625, 0.0936226 , 0.47862259, 0.0673856 ,\n",
       "        0.07841762, 0.98103708, 0.16442798, 0.25600758, 0.06914913],\n",
       "       [0.88203686, 0.81877205, 0.36849566, 0.43853183, 0.54244183,\n",
       "        0.66369779, 0.62677419, 0.99293405, 0.58155251, 0.96940414],\n",
       "       [0.77511523, 0.31040449, 0.30070996, 0.71083349, 0.26728772,\n",
       "        0.74745973, 0.22673968, 0.4952559 , 0.29168887, 0.95726631]])"
      ]
     },
     "execution_count": 76,
     "metadata": {},
     "output_type": "execute_result"
    }
   ],
   "source": [
    "gmm.u"
   ]
  },
  {
   "cell_type": "markdown",
   "metadata": {},
   "source": [
    "# 4 模型评估"
   ]
  }
 ],
 "metadata": {
  "kernelspec": {
   "display_name": "Python 3",
   "language": "python",
   "name": "python3"
  },
  "language_info": {
   "codemirror_mode": {
    "name": "ipython",
    "version": 3
   },
   "file_extension": ".py",
   "mimetype": "text/x-python",
   "name": "python",
   "nbconvert_exporter": "python",
   "pygments_lexer": "ipython3",
   "version": "3.8.3"
  }
 },
 "nbformat": 4,
 "nbformat_minor": 4
}
